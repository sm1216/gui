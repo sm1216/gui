{
 "cells": [
  {
   "cell_type": "code",
   "execution_count": null,
   "metadata": {},
   "outputs": [],
   "source": [
    "pip install py3Dmol"
   ]
  },
  {
   "cell_type": "code",
   "execution_count": 1,
   "metadata": {},
   "outputs": [
    {
     "data": {
      "application/3dmoljs_load.v0": "<div id=\"3dmolviewer_15793510515755484\"  style=\"position: relative; width: 640px; height: 480px\">\n        <p id=\"3dmolwarning_15793510515755484\" style=\"background-color:#ffcccc;color:black\">You appear to be running in JupyterLab (or JavaScript failed to load for some other reason).  You need to install the 3dmol extension: <br>\n        <tt>jupyter labextension install jupyterlab_3dmol</tt></p>\n        </div>\n<script>\n\nvar loadScriptAsync = function(uri){\n  return new Promise((resolve, reject) => {\n    var tag = document.createElement('script');\n    tag.src = uri;\n    tag.async = true;\n    tag.onload = () => {\n      resolve();\n    };\n  var firstScriptTag = document.getElementsByTagName('script')[0];\n  firstScriptTag.parentNode.insertBefore(tag, firstScriptTag);\n});\n};\n\nif(typeof $3Dmolpromise === 'undefined') {\n$3Dmolpromise = null;\n  $3Dmolpromise = loadScriptAsync('https://3dmol.csb.pitt.edu/build/3Dmol.js');\n}\n\nvar viewer_15793510515755484 = null;\nvar warn = document.getElementById(\"3dmolwarning_15793510515755484\");\nif(warn) {\n    warn.parentNode.removeChild(warn);\n}\n$3Dmolpromise.then(function() {\nviewer_15793510515755484 = $3Dmol.createViewer($(\"#3dmolviewer_15793510515755484\"),{backgroundColor:\"white\"});\n$3Dmol.download(\"pdb:1hvr\", viewer_15793510515755484, {}, function() {\n\tviewer_15793510515755484.setStyle({\"cartoon\": {\"color\": \"spectrum\"}});\nviewer_15793510515755484.render();\n})\n});\n</script>",
      "text/html": [
       "<div id=\"3dmolviewer_15793510515755484\"  style=\"position: relative; width: 640px; height: 480px\">\n",
       "        <p id=\"3dmolwarning_15793510515755484\" style=\"background-color:#ffcccc;color:black\">You appear to be running in JupyterLab (or JavaScript failed to load for some other reason).  You need to install the 3dmol extension: <br>\n",
       "        <tt>jupyter labextension install jupyterlab_3dmol</tt></p>\n",
       "        </div>\n",
       "<script>\n",
       "\n",
       "var loadScriptAsync = function(uri){\n",
       "  return new Promise((resolve, reject) => {\n",
       "    var tag = document.createElement('script');\n",
       "    tag.src = uri;\n",
       "    tag.async = true;\n",
       "    tag.onload = () => {\n",
       "      resolve();\n",
       "    };\n",
       "  var firstScriptTag = document.getElementsByTagName('script')[0];\n",
       "  firstScriptTag.parentNode.insertBefore(tag, firstScriptTag);\n",
       "});\n",
       "};\n",
       "\n",
       "if(typeof $3Dmolpromise === 'undefined') {\n",
       "$3Dmolpromise = null;\n",
       "  $3Dmolpromise = loadScriptAsync('https://3dmol.csb.pitt.edu/build/3Dmol.js');\n",
       "}\n",
       "\n",
       "var viewer_15793510515755484 = null;\n",
       "var warn = document.getElementById(\"3dmolwarning_15793510515755484\");\n",
       "if(warn) {\n",
       "    warn.parentNode.removeChild(warn);\n",
       "}\n",
       "$3Dmolpromise.then(function() {\n",
       "viewer_15793510515755484 = $3Dmol.createViewer($(\"#3dmolviewer_15793510515755484\"),{backgroundColor:\"white\"});\n",
       "$3Dmol.download(\"pdb:1hvr\", viewer_15793510515755484, {}, function() {\n",
       "\tviewer_15793510515755484.setStyle({\"cartoon\": {\"color\": \"spectrum\"}});\n",
       "viewer_15793510515755484.render();\n",
       "})\n",
       "});\n",
       "</script>"
      ]
     },
     "metadata": {},
     "output_type": "display_data"
    },
    {
     "data": {
      "text/plain": [
       "<py3Dmol.view at 0x2b7fbd293c8>"
      ]
     },
     "execution_count": 1,
     "metadata": {},
     "output_type": "execute_result"
    }
   ],
   "source": [
    "import py3Dmol\n",
    "view = py3Dmol.view(query='pdb:1hvr')\n",
    "view.setStyle({'cartoon':{'color':'spectrum'}})\n",
    "view\n"
   ]
  },
  {
   "cell_type": "code",
   "execution_count": 23,
   "metadata": {},
   "outputs": [],
   "source": [
    "from tkinter import *\n",
    "root = Tk()\n",
    "root.title(\"PDB VIEWER\")\n",
    "\n",
    "#create label widget\n",
    "\n",
    "myLabel=Label(root, text=\"ENTER PDB NAME\")\n",
    "\n",
    "# enter box\n",
    "myLabel.grid()\n",
    "enter = Entry(root, width=35, borderwidth=5)\n",
    "enter.grid()\n",
    "enter.insert(0,\"pdb:\")#blank box\n",
    "\n",
    "#call pdb and view\n",
    "\n",
    "view = py3Dmol.view(query=enter.get())\n",
    "view.setStyle({'cartoon':{'color':'spectrum'}})\n",
    "view\n",
    "\n",
    "#result of first button\n",
    "\n",
    "def upload():\n",
    "\tLabel1 = Label(root, text=view.get())\n",
    "\tLabel1.grid()\n",
    "\n",
    "#result of 2nd button\n",
    "#########################################\n",
    "def pdb():\n",
    "\tLabel2 = Label(root, text=\"pdb is \"+enter.get())\n",
    "\tLabel2.grid()\n",
    "#########################################\n",
    "Button1 = Button(root, text=\"UPLOAD PDB\", command=upload,width = 50)\n",
    "Button1.grid()\n",
    "Button2 = Button(root, text=\" PDB\", command=pdb,width = 50)\n",
    "Button2.grid()\n",
    "#end\n",
    "root.mainloop()"
   ]
  },
  {
   "cell_type": "markdown",
   "metadata": {},
   "source": []
  },
  {
   "cell_type": "code",
   "execution_count": null,
   "metadata": {},
   "outputs": [],
   "source": []
  },
  {
   "cell_type": "code",
   "execution_count": null,
   "metadata": {},
   "outputs": [],
   "source": []
  }
 ],
 "metadata": {
  "kernelspec": {
   "display_name": "Python 3",
   "language": "python",
   "name": "python3"
  },
  "language_info": {
   "codemirror_mode": {
    "name": "ipython",
    "version": 3
   },
   "file_extension": ".py",
   "mimetype": "text/x-python",
   "name": "python",
   "nbconvert_exporter": "python",
   "pygments_lexer": "ipython3",
   "version": "3.7.3"
  }
 },
 "nbformat": 4,
 "nbformat_minor": 2
}
